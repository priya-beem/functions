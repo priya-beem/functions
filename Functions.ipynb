{
 "cells": [
  {
   "cell_type": "markdown",
   "id": "28954c00-b4d5-4132-a1b5-0f7cc95b578c",
   "metadata": {},
   "source": [
    "## Functions"
   ]
  },
  {
   "cell_type": "markdown",
   "id": "99ab8e4e-078e-4b14-83f9-9d0b8bb9d71d",
   "metadata": {},
   "source": [
    "- Reusable block of code that perform some specific task\n",
    "- Break down complex tasks into smaller, manageable parts\n",
    "- Improve code reusability, readability and maintainability"
   ]
  },
  {
   "cell_type": "markdown",
   "id": "81a6618f-eccc-4309-954f-1b493180b4f3",
   "metadata": {},
   "source": [
    "## Types of Functions"
   ]
  },
  {
   "cell_type": "markdown",
   "id": "7ba36a3c-89be-4a78-bc81-d980154eda02",
   "metadata": {},
   "source": [
    "- Built in Functions - Provided by python prg language\n",
    "- User defined functions - By users\n",
    "- Lambda function - anonymous function using lambda keyword\n",
    "- Recursive function - Function that call itself\n",
    "- Higher order functions - function that take another function as an argument/ return function\n",
    "- Generator function"
   ]
  },
  {
   "cell_type": "code",
   "execution_count": 1,
   "id": "80545ab7-9b46-4433-b667-c99d09bdef55",
   "metadata": {},
   "outputs": [],
   "source": [
    "number_list = [1, 2, 3, 4,5]"
   ]
  },
  {
   "cell_type": "code",
   "execution_count": 2,
   "id": "c3c3a9ac-5749-42c4-872b-bf3262da1ad8",
   "metadata": {},
   "outputs": [
    {
     "data": {
      "text/plain": [
       "5"
      ]
     },
     "execution_count": 2,
     "metadata": {},
     "output_type": "execute_result"
    }
   ],
   "source": [
    "len(number_list)  # in built functions of python"
   ]
  },
  {
   "cell_type": "code",
   "execution_count": 3,
   "id": "17f4bed6-1085-437e-a1f9-b9bf12cdc293",
   "metadata": {},
   "outputs": [
    {
     "name": "stdout",
     "output_type": "stream",
     "text": [
      "[1, 2, 3, 4, 5]\n"
     ]
    }
   ],
   "source": [
    "print(number_list) # in built function"
   ]
  },
  {
   "cell_type": "markdown",
   "id": "c5a9890f-9e4f-46e8-9aaf-423fd943ac6a",
   "metadata": {},
   "source": [
    "Syntax:\n",
    "\n",
    "\n",
    "def function_name(param1, param2):\n",
    "   #logic"
   ]
  },
  {
   "cell_type": "code",
   "execution_count": 4,
   "id": "c16dd90b-b94e-42fc-99ec-30175524d28c",
   "metadata": {},
   "outputs": [
    {
     "name": "stdout",
     "output_type": "stream",
     "text": [
      "Hello Tanisha!!\n"
     ]
    }
   ],
   "source": [
    "# custom functions\n",
    "def greet(name):   #parameter, arguments\n",
    "    return f'Hello {name}!!'\n",
    "\n",
    "greet_msg = greet(\"Tanisha\")\n",
    "print(greet_msg)"
   ]
  },
  {
   "cell_type": "code",
   "execution_count": 5,
   "id": "a01b10f7-ab54-4095-aa80-bf538a814551",
   "metadata": {},
   "outputs": [
    {
     "data": {
      "text/plain": [
       "'Hello Tanisha!!'"
      ]
     },
     "execution_count": 5,
     "metadata": {},
     "output_type": "execute_result"
    }
   ],
   "source": [
    "greet_msg"
   ]
  },
  {
   "cell_type": "code",
   "execution_count": 6,
   "id": "0fe3dd0a-1b13-4dde-a467-70af450510f9",
   "metadata": {},
   "outputs": [
    {
     "name": "stdout",
     "output_type": "stream",
     "text": [
      "5\n"
     ]
    }
   ],
   "source": [
    "def add_2_numbers(a, b):\n",
    "    x = a+ b\n",
    "    return x\n",
    "\n",
    "result = add_2_numbers(2, 3)\n",
    "print(result)"
   ]
  },
  {
   "cell_type": "code",
   "execution_count": 9,
   "id": "e09f25cd-a119-48fd-967b-59ac59dbd08f",
   "metadata": {},
   "outputs": [
    {
     "name": "stdout",
     "output_type": "stream",
     "text": [
      "[4, 8, 12, 1, 2, 3]\n"
     ]
    }
   ],
   "source": [
    "global lst\n",
    "def double_values(lst): \n",
    "    for i in range(len(lst)):\n",
    "        lst[i]*=2\n",
    "\n",
    "\n",
    "lst = [2, 4, 6]\n",
    "double_values(lst)\n",
    "lst.extend([1,2,3])\n",
    "print(lst)\n"
   ]
  },
  {
   "cell_type": "code",
   "execution_count": 16,
   "id": "1ce59888-e880-4977-a773-f07784fb88d2",
   "metadata": {},
   "outputs": [
    {
     "name": "stdout",
     "output_type": "stream",
     "text": [
      "<csv.DictWriter object at 0x000001B7A78AB350>\n"
     ]
    }
   ],
   "source": [
    "import csv\n",
    "def preprocessing_of_data(employee_info, field_names):\n",
    "    with open('Empl.csv','w') as csvfile:\n",
    "        writer = csv.DictWriter(csvfile, fieldnames = field_names)\n",
    "        writer.writeheader()\n",
    "        writer.writerows(employee_info)\n",
    "        print(writer)\n",
    "\n",
    "field_names = {\"id\", \"age\", \"name\"}\n",
    "employee_info = [{\"id\":\"emp101\", \"age\":20, \"name\":\"Ram\"}, {\"id\":\"emp102\", \"age\":20, \"name\":\"Sham\"}]\n",
    "preprocessing_of_data(employee_info, field_names)\n"
   ]
  },
  {
   "cell_type": "code",
   "execution_count": 17,
   "id": "f3c6325b-0fd5-49d8-b349-d114bc0bec6a",
   "metadata": {},
   "outputs": [
    {
     "name": "stdout",
     "output_type": "stream",
     "text": [
      "Area of the rectangle: 6, Perimeter: 10\n"
     ]
    }
   ],
   "source": [
    "def rectangle(length, width):\n",
    "    area = length*width\n",
    "    perimeter = 2* (length+width)\n",
    "    return area, perimeter\n",
    "\n",
    "area, perimeter = rectangle(2, 3)\n",
    "print(f'Area of the rectangle: {area}, Perimeter: {perimeter}')"
   ]
  },
  {
   "cell_type": "code",
   "execution_count": 19,
   "id": "f5c9b5b3-0041-43b1-a13c-dfd99e9f765e",
   "metadata": {},
   "outputs": [
    {
     "name": "stdout",
     "output_type": "stream",
     "text": [
      "[2, 4]\n"
     ]
    }
   ],
   "source": [
    "def get_even_numbers(numbers):\n",
    "    return [num for num in numbers if num%2==0] #list comprehension\n",
    "\n",
    "evens = get_even_numbers([1,2,3,4,5])\n",
    "print(evens)        "
   ]
  },
  {
   "cell_type": "markdown",
   "id": "e48a41c0-650d-4aa8-ae5a-e4f42b54c2a1",
   "metadata": {},
   "source": [
    "# Function with default arguments"
   ]
  },
  {
   "cell_type": "code",
   "execution_count": 21,
   "id": "9f8c373d-9f5f-4dee-9731-ba6a85458419",
   "metadata": {},
   "outputs": [
    {
     "data": {
      "text/plain": [
       "'Hello Alice!'"
      ]
     },
     "execution_count": 21,
     "metadata": {},
     "output_type": "execute_result"
    }
   ],
   "source": [
    "def greet(name = \"Guest\"): # default argument where value is already specified when there is no parameter given this will be used\n",
    "    return f'Hello {name}!'\n",
    "\n",
    "greet('Alice')"
   ]
  },
  {
   "cell_type": "code",
   "execution_count": null,
   "id": "658f2c91-87ca-46c6-8b5a-aa6d62af0c69",
   "metadata": {},
   "outputs": [],
   "source": []
  },
  {
   "cell_type": "code",
   "execution_count": 22,
   "id": "3e792d5d-f4c3-4300-9ce3-ea51cac709cd",
   "metadata": {},
   "outputs": [
    {
     "data": {
      "text/plain": [
       "'Hello Guest!'"
      ]
     },
     "execution_count": 22,
     "metadata": {},
     "output_type": "execute_result"
    }
   ],
   "source": [
    "greet()"
   ]
  },
  {
   "cell_type": "markdown",
   "id": "66c5093d-a31a-4b61-9743-3e1c88759717",
   "metadata": {},
   "source": [
    "# Functions with variable arguments"
   ]
  },
  {
   "cell_type": "markdown",
   "id": "5fa5fac3-8e25-4ff4-a33a-41aef0e8ad78",
   "metadata": {},
   "source": [
    "*args (variable positional arguments)\n",
    "- multiple positional arguments are added to a function\n",
    "- inside a function, it will act like a tuple"
   ]
  },
  {
   "cell_type": "code",
   "execution_count": 26,
   "id": "63076d3b-be75-4fd0-a0a6-c12b71b72da7",
   "metadata": {},
   "outputs": [
    {
     "name": "stdout",
     "output_type": "stream",
     "text": [
      "10\n",
      "45\n"
     ]
    }
   ],
   "source": [
    "def add_numbers(*args): #variable arguments which will act like a tuple\n",
    "    return sum(args)\n",
    "\n",
    "print(add_numbers(2,3,5))\n",
    "print(add_numbers(1,2,3,4,5,6,7,8,9))"
   ]
  },
  {
   "cell_type": "markdown",
   "id": "2937b4ed-8156-4dbc-b3a6-4208c46f955d",
   "metadata": {},
   "source": [
    "# **kwargs - variable keyword arguments\n",
    "- multiple keyword arguments are added to the function\n",
    "- this will behave like a dictionary\n",
    "  "
   ]
  },
  {
   "cell_type": "code",
   "execution_count": 27,
   "id": "89dd67d4-cd39-4238-8f52-339997044d2a",
   "metadata": {},
   "outputs": [
    {
     "name": "stdout",
     "output_type": "stream",
     "text": [
      "{'name': 'Alice', 'age': 25, 'country': 'India'}\n"
     ]
    }
   ],
   "source": [
    "def create_profile(**kwargs):\n",
    "    return kwargs\n",
    "\n",
    "profile = create_profile(name='Alice', age=25, country='India')\n",
    "print(profile)"
   ]
  },
  {
   "cell_type": "code",
   "execution_count": 28,
   "id": "ae198623-54a0-43a4-8808-729304cb2a5e",
   "metadata": {},
   "outputs": [],
   "source": [
    "# unpack *args & **kwargs"
   ]
  },
  {
   "cell_type": "code",
   "execution_count": 30,
   "id": "c54a9f26-c418-4a8a-8c69-b1d85490aaa5",
   "metadata": {},
   "outputs": [
    {
     "name": "stdout",
     "output_type": "stream",
     "text": [
      "24\n"
     ]
    }
   ],
   "source": [
    "def multiply(a, b,c): \n",
    "    return a*b*c\n",
    "\n",
    "numbers = (2,3,4)\n",
    "print(multiply(*numbers)) #unpacking\n",
    "    "
   ]
  },
  {
   "cell_type": "markdown",
   "id": "29ffeae3-8607-47c7-84e2-a75503305cd8",
   "metadata": {},
   "source": [
    "# Recursive Function"
   ]
  },
  {
   "cell_type": "markdown",
   "id": "9fdc8838-f96f-4f8f-9cb1-46164f2da023",
   "metadata": {},
   "source": [
    "- Function call itself to solve a problem\n",
    "- Break porblems into smaller subproblems\n",
    "- Every rec func will have a base condition"
   ]
  },
  {
   "cell_type": "code",
   "execution_count": 34,
   "id": "b9217b82-e287-448f-8700-8043e209e019",
   "metadata": {},
   "outputs": [
    {
     "name": "stdout",
     "output_type": "stream",
     "text": [
      "24\n"
     ]
    }
   ],
   "source": [
    "# 5! = 5.4.3.2.1 till it reaches 1\n",
    "# 5! = 5.4! = 5.4.3.2.1 (n) (n-1)!\n",
    "# 4! = 4.3!  = 4.3.2.1\n",
    "# 3! = 3.2!  = 3.2.1\n",
    "# 2! = 2.1!  = 2.1\n",
    "# 1  = 1   = 1\n",
    "def factorial(num):\n",
    "    if num == 0 or num == 1:\n",
    "        return 1\n",
    "    else:\n",
    "        return num * factorial(num-1)\n",
    "\n",
    "print(factorial(4))"
   ]
  },
  {
   "cell_type": "markdown",
   "id": "655b7996-74b2-417c-a79a-3c2e15b1be67",
   "metadata": {},
   "source": [
    "## Lambda Function"
   ]
  },
  {
   "cell_type": "markdown",
   "id": "08e00f99-2dfd-4d74-a47b-9ee715be0848",
   "metadata": {},
   "source": [
    "- Anonymous function - smaller which is oneliner function\n",
    "- no need of name\n",
    "- uses lambda keyword\n",
    "- takes any number of arguments but only these arguments should be used in one expression\n",
    "- commonly used for short and precise functions"
   ]
  },
  {
   "cell_type": "code",
   "execution_count": 37,
   "id": "9acb096b-84bc-41cb-8adb-0e7d2fd4d01f",
   "metadata": {},
   "outputs": [
    {
     "name": "stdout",
     "output_type": "stream",
     "text": [
      "8\n"
     ]
    }
   ],
   "source": [
    "# lambda arguments: expression\n",
    "\n",
    "# def functioname(arg):\n",
    "#     expr\n",
    "\n",
    "# def add_2_numbers(a, b):\n",
    "#     return a+b\n",
    "\n",
    "sum=lambda a,b: a+b\n",
    "print(sum(5,3))"
   ]
  },
  {
   "cell_type": "code",
   "execution_count": 39,
   "id": "20a1f6bc-9317-4135-8cf3-59db74ad0601",
   "metadata": {},
   "outputs": [
    {
     "name": "stdout",
     "output_type": "stream",
     "text": [
      "12\n"
     ]
    }
   ],
   "source": [
    "max_num = lambda a,b: a if a > b else b\n",
    "print(max_num(10,12))"
   ]
  },
  {
   "cell_type": "markdown",
   "id": "73d52af1-5f98-4d8b-82c8-70b4ee7b737a",
   "metadata": {},
   "source": [
    "## map - is a inbuilt function of python\n",
    "- apply function to each item in collection (sets, tuples, dictionaries)\n",
    "- return map object\n",
    "- use list(), set() - change to corresponding datastructure\n",
    "- syntax: map(function, collection)"
   ]
  },
  {
   "cell_type": "code",
   "execution_count": 42,
   "id": "a23374db-4527-4f61-bfbe-3e853dbce15f",
   "metadata": {},
   "outputs": [
    {
     "data": {
      "text/plain": [
       "[1, 4, 9, 16, 25]"
      ]
     },
     "execution_count": 42,
     "metadata": {},
     "output_type": "execute_result"
    }
   ],
   "source": [
    "# collection of elements\n",
    "numbers = [1,2,3,4,5]\n",
    "squared = list(map(lambda a: a**2, numbers))\n",
    "squared"
   ]
  },
  {
   "cell_type": "code",
   "execution_count": 43,
   "id": "be76c5b2-c2c5-4515-8cfb-6e3ce2842af3",
   "metadata": {},
   "outputs": [
    {
     "data": {
      "text/plain": [
       "[10, 20, 30]"
      ]
     },
     "execution_count": 43,
     "metadata": {},
     "output_type": "execute_result"
    }
   ],
   "source": [
    "## map function\n",
    "\n",
    "str_nos = [\"10\",\"20\",\"30\"]\n",
    "nos = list(map(int, str_nos))\n",
    "nos"
   ]
  },
  {
   "cell_type": "code",
   "execution_count": 44,
   "id": "acf8996a-947f-4dd1-a90d-094c5604f200",
   "metadata": {},
   "outputs": [
    {
     "data": {
      "text/plain": [
       "['10', '20', '30']"
      ]
     },
     "execution_count": 44,
     "metadata": {},
     "output_type": "execute_result"
    }
   ],
   "source": [
    "str_nos = [10,20,30]\n",
    "nos = list(map(str, str_nos))\n",
    "nos"
   ]
  },
  {
   "cell_type": "markdown",
   "id": "32ea7951-64b0-4c38-aa55-2e4ca52f291a",
   "metadata": {},
   "source": [
    "## filter - filter elements from an iterable(list, tuples, sets)\n",
    "- apply to a function where each item you need to validate\n",
    "- if function returns true, item will be included otherwise not\n",
    "- filter(function, collection)"
   ]
  },
  {
   "cell_type": "code",
   "execution_count": 45,
   "id": "277316cb-74ee-4c55-87d8-5114107293b9",
   "metadata": {},
   "outputs": [
    {
     "data": {
      "text/plain": [
       "[2, 4, 6]"
      ]
     },
     "execution_count": 45,
     "metadata": {},
     "output_type": "execute_result"
    }
   ],
   "source": [
    "numbers = [1,2,3,4,5,6]\n",
    "evens = list(filter(lambda x: x%2==0, numbers))\n",
    "evens"
   ]
  },
  {
   "cell_type": "code",
   "execution_count": 46,
   "id": "9103781c-455e-4bad-88a5-9b29f81cdc59",
   "metadata": {},
   "outputs": [
    {
     "data": {
      "text/plain": [
       "['apple']"
      ]
     },
     "execution_count": 46,
     "metadata": {},
     "output_type": "execute_result"
    }
   ],
   "source": [
    "words = [\"apple\", \"banana\",\"kiwi\"]\n",
    "filter_words = list(filter(lambda word: word.startswith(\"a\"), words))\n",
    "filter_words"
   ]
  },
  {
   "cell_type": "markdown",
   "id": "7ec469f2-37ed-4d73-906e-b1b57209f35e",
   "metadata": {},
   "source": [
    "## Reduce function \n",
    "- apply function cumulatively to all the elements within a collection\n",
    "- comprise of only one resultant value\n",
    "- functools is a package where you can use reduce\n",
    "- reduce(function, collection[, initializer])"
   ]
  },
  {
   "cell_type": "code",
   "execution_count": 53,
   "id": "87b9ed28-74b8-4e22-8acc-8de73a0cb91a",
   "metadata": {},
   "outputs": [
    {
     "data": {
      "text/plain": [
       "6"
      ]
     },
     "execution_count": 53,
     "metadata": {},
     "output_type": "execute_result"
    }
   ],
   "source": [
    "from functools import reduce\n",
    "numbers = [6, 1, 2,3,4,5]\n",
    "result = reduce(lambda x,y: x if x > y else y, numbers)\n",
    "result\n",
    "\n"
   ]
  }
 ],
 "metadata": {
  "kernelspec": {
   "display_name": "Python 3 (ipykernel)",
   "language": "python",
   "name": "python3"
  },
  "language_info": {
   "codemirror_mode": {
    "name": "ipython",
    "version": 3
   },
   "file_extension": ".py",
   "mimetype": "text/x-python",
   "name": "python",
   "nbconvert_exporter": "python",
   "pygments_lexer": "ipython3",
   "version": "3.12.7"
  }
 },
 "nbformat": 4,
 "nbformat_minor": 5
}
